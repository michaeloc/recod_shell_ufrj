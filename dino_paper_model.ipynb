{
 "cells": [
  {
   "cell_type": "code",
   "execution_count": 1,
   "id": "ce2ca443-fe7d-4080-9fb2-237579638dad",
   "metadata": {},
   "outputs": [
    {
     "name": "stderr",
     "output_type": "stream",
     "text": [
      "/opt/conda/lib/python3.10/site-packages/tqdm/auto.py:21: TqdmWarning: IProgress not found. Please update jupyter and ipywidgets. See https://ipywidgets.readthedocs.io/en/stable/user_install.html\n",
      "  from .autonotebook import tqdm as notebook_tqdm\n"
     ]
    }
   ],
   "source": [
    "from transformers import AutoImageProcessor, Dinov2Model\n",
    "import torch\n",
    "import torch.nn as nn\n",
    "import torch.optim as optim\n",
    "import numpy as np\n",
    "import re\n",
    "import torchvision\n",
    "from sklearn.model_selection import train_test_split\n",
    "from collections import Counter\n",
    "import matplotlib.pyplot as plt\n",
    "import copy\n",
    "from torchvision import datasets, models, transforms\n",
    "import torch.nn.functional as F\n",
    "from sklearn.utils.class_weight import compute_class_weight\n",
    "import matplotlib.pyplot as plt\n",
    "import time\n",
    "from copy import deepcopy\n",
    "from os import walk\n",
    "import os\n",
    "import copy\n",
    "import pandas as pd\n",
    "import numpy as np\n",
    "from tqdm import tqdm\n",
    "from sklearn.metrics import classification_report, balanced_accuracy_score, confusion_matrix, ConfusionMatrixDisplay, accuracy_score\n",
    "from datasets import load_dataset,DatasetDict, Dataset\n",
    "from torch.utils.data import Dataset, DataLoader\n",
    "import cv2\n",
    "import shutil\n",
    "import random"
   ]
  },
  {
   "cell_type": "code",
   "execution_count": 2,
   "id": "193bff95-3eeb-4632-b9f4-b87d452683be",
   "metadata": {},
   "outputs": [],
   "source": [
    "device = torch.device(\"cuda:1\" if torch.cuda.is_available() else \"cpu\")"
   ]
  },
  {
   "cell_type": "code",
   "execution_count": 3,
   "id": "6b9a0df0-de7a-47c5-a361-ad7570ae27ce",
   "metadata": {},
   "outputs": [
    {
     "data": {
      "text/plain": [
       "device(type='cpu')"
      ]
     },
     "execution_count": 3,
     "metadata": {},
     "output_type": "execute_result"
    }
   ],
   "source": [
    "device"
   ]
  },
  {
   "cell_type": "code",
   "execution_count": 4,
   "id": "583537c8-307a-4c9c-80e5-4331f86b60d7",
   "metadata": {},
   "outputs": [],
   "source": [
    "batch_size = 64\n",
    "num_epochs = 30\n",
    "random_state = 10\n",
    "cls = 7"
   ]
  },
  {
   "cell_type": "code",
   "execution_count": 5,
   "id": "135e5cf0-7b1e-4bf7-b463-0077a13f883b",
   "metadata": {},
   "outputs": [
    {
     "name": "stderr",
     "output_type": "stream",
     "text": [
      "Using cache found in /root/.cache/torch/hub/facebookresearch_dinov2_main\n",
      "/root/.cache/torch/hub/facebookresearch_dinov2_main/dinov2/layers/swiglu_ffn.py:51: UserWarning: xFormers is not available (SwiGLU)\n",
      "  warnings.warn(\"xFormers is not available (SwiGLU)\")\n",
      "/root/.cache/torch/hub/facebookresearch_dinov2_main/dinov2/layers/attention.py:33: UserWarning: xFormers is not available (Attention)\n",
      "  warnings.warn(\"xFormers is not available (Attention)\")\n",
      "/root/.cache/torch/hub/facebookresearch_dinov2_main/dinov2/layers/block.py:40: UserWarning: xFormers is not available (Block)\n",
      "  warnings.warn(\"xFormers is not available (Block)\")\n"
     ]
    }
   ],
   "source": [
    "dinov2_vits14 = torch.hub.load('facebookresearch/dinov2', 'dinov2_vits14')"
   ]
  },
  {
   "cell_type": "code",
   "execution_count": 6,
   "id": "618bf472-f85d-410b-9494-784a1a2c2bd5",
   "metadata": {},
   "outputs": [],
   "source": [
    "# dinov2_vits14.load_state_dict(torch.load('dino_paper.pt'))"
   ]
  },
  {
   "cell_type": "code",
   "execution_count": 7,
   "id": "ca3f67ec-4067-4652-8297-fba9e5c93086",
   "metadata": {},
   "outputs": [
    {
     "name": "stdout",
     "output_type": "stream",
     "text": [
      "78237 19560\n"
     ]
    }
   ],
   "source": [
    "BASE_PATH = '../sample_paper/'\n",
    "\n",
    "SEED = 1023\n",
    "only_labels = ['BDT', 'FLT', 'GRT', 'MUD', 'PAC', 'RUD', 'WAC']\n",
    "ch = 0\n",
    "ch_group = [0]\n",
    "\n",
    "def get_files(BASE_PATH):\n",
    "    f = []\n",
    "    for (dirpath, dirnames, filenames) in walk(BASE_PATH):\n",
    "        f.extend(filenames)\n",
    "        break\n",
    "    return f\n",
    "\n",
    "def creating_dataframe2(f, only_labels, base_path):\n",
    "    ## assembling dataframe of file\n",
    "    df_dict = {\n",
    "        'path':[],\n",
    "        'prof':[],\n",
    "        'label':[],\n",
    "        'channel':[],\n",
    "        'tile':[]\n",
    "    }\n",
    "\n",
    "    prof_art_id=3\n",
    "    lb_idx = 4\n",
    "    ch_idx = 5\n",
    "    tl_idx = 7\n",
    "    lb_el=2    \n",
    "        \n",
    "    for file in f:\n",
    "        split = re.split(r'(\\d+)', file)\n",
    "        \n",
    "        prof_art = split[prof_art_id]\n",
    "        label = split[lb_idx].split('.')[lb_el]\n",
    "        channel = int(split[ch_idx])\n",
    "        tile = int(split[tl_idx])\n",
    "        \n",
    "        if label in only_labels and not 'espessa' in file:\n",
    "            \n",
    "            tile = int(split[tl_idx])\n",
    "            \n",
    "            df_dict['path']+=[base_path+file]\n",
    "            df_dict['prof']+=[prof_art] \n",
    "            df_dict['label']+=[label]\n",
    "            df_dict['channel']+=[channel]\n",
    "            df_dict['tile']+=[tile]\n",
    "        \n",
    "    df = pd.DataFrame(df_dict)\n",
    "    return df\n",
    "\n",
    "def split_A_B(df_raw, train_size=0.7):\n",
    " \n",
    "    train, val, y_train, y_val = train_test_split(df_raw, df_raw.label.values, train_size=train_size, random_state=10)\n",
    "    return train, val\n",
    "\n",
    "def merge_with_channel(df_raw, df_split):\n",
    "    new_df = copy.deepcopy(df_split)\n",
    "    for idx, item in df_split.iterrows():\n",
    "        \n",
    "        cls = item[2]\n",
    "        prof = item[1]\n",
    "        tile = item[4]\n",
    "\n",
    "        \n",
    "        subdf = df_raw[(df_raw['label']==cls) & (df_raw['prof']==prof) & (df_raw['channel'].isin(ch_group))].iloc[:]\n",
    "        new_df = pd.concat([new_df, subdf])\n",
    "        \n",
    "    return new_df\n",
    "    \n",
    "\n",
    "df = creating_dataframe2(get_files(BASE_PATH), only_labels, BASE_PATH)\n",
    "\n",
    "df_raw = df[(df['channel']==ch) & (df['tile']==0)]\n",
    "\n",
    "A, B = split_A_B(df_raw, 0.8)\n",
    "print(len(A), len(B))\n",
    "A, C = split_A_B(A, train_size=0.75)\n",
    "\n",
    "train = A.drop_duplicates()\n",
    "val = C.drop_duplicates()\n",
    "test = B.drop_duplicates()"
   ]
  },
  {
   "cell_type": "code",
   "execution_count": 8,
   "id": "b43d516a-76c0-4fcc-b8f8-91f623369452",
   "metadata": {},
   "outputs": [
    {
     "data": {
      "text/html": [
       "<div>\n",
       "<style scoped>\n",
       "    .dataframe tbody tr th:only-of-type {\n",
       "        vertical-align: middle;\n",
       "    }\n",
       "\n",
       "    .dataframe tbody tr th {\n",
       "        vertical-align: top;\n",
       "    }\n",
       "\n",
       "    .dataframe thead th {\n",
       "        text-align: right;\n",
       "    }\n",
       "</style>\n",
       "<table border=\"1\" class=\"dataframe\">\n",
       "  <thead>\n",
       "    <tr style=\"text-align: right;\">\n",
       "      <th></th>\n",
       "      <th>path_x</th>\n",
       "      <th>prof</th>\n",
       "      <th>label</th>\n",
       "      <th>channel_x</th>\n",
       "      <th>tile_x</th>\n",
       "      <th>path_y</th>\n",
       "      <th>channel_y</th>\n",
       "      <th>tile_y</th>\n",
       "    </tr>\n",
       "  </thead>\n",
       "  <tbody>\n",
       "  </tbody>\n",
       "</table>\n",
       "</div>"
      ],
      "text/plain": [
       "Empty DataFrame\n",
       "Columns: [path_x, prof, label, channel_x, tile_x, path_y, channel_y, tile_y]\n",
       "Index: []"
      ]
     },
     "execution_count": 8,
     "metadata": {},
     "output_type": "execute_result"
    }
   ],
   "source": [
    "pd.merge(train, val, how='inner', on=['label','prof'])"
   ]
  },
  {
   "cell_type": "code",
   "execution_count": 9,
   "id": "94371676-9e9f-4566-a313-4850602d2b9d",
   "metadata": {},
   "outputs": [
    {
     "data": {
      "text/html": [
       "<div>\n",
       "<style scoped>\n",
       "    .dataframe tbody tr th:only-of-type {\n",
       "        vertical-align: middle;\n",
       "    }\n",
       "\n",
       "    .dataframe tbody tr th {\n",
       "        vertical-align: top;\n",
       "    }\n",
       "\n",
       "    .dataframe thead th {\n",
       "        text-align: right;\n",
       "    }\n",
       "</style>\n",
       "<table border=\"1\" class=\"dataframe\">\n",
       "  <thead>\n",
       "    <tr style=\"text-align: right;\">\n",
       "      <th></th>\n",
       "      <th>path_x</th>\n",
       "      <th>prof</th>\n",
       "      <th>label</th>\n",
       "      <th>channel_x</th>\n",
       "      <th>tile_x</th>\n",
       "      <th>path_y</th>\n",
       "      <th>channel_y</th>\n",
       "      <th>tile_y</th>\n",
       "    </tr>\n",
       "  </thead>\n",
       "  <tbody>\n",
       "  </tbody>\n",
       "</table>\n",
       "</div>"
      ],
      "text/plain": [
       "Empty DataFrame\n",
       "Columns: [path_x, prof, label, channel_x, tile_x, path_y, channel_y, tile_y]\n",
       "Index: []"
      ]
     },
     "execution_count": 9,
     "metadata": {},
     "output_type": "execute_result"
    }
   ],
   "source": [
    "pd.merge(train, test, how='inner', on=['label','prof'])"
   ]
  },
  {
   "cell_type": "code",
   "execution_count": 10,
   "id": "9829fc22-490d-457f-b090-4eeb1c28fca1",
   "metadata": {},
   "outputs": [
    {
     "data": {
      "text/html": [
       "<div>\n",
       "<style scoped>\n",
       "    .dataframe tbody tr th:only-of-type {\n",
       "        vertical-align: middle;\n",
       "    }\n",
       "\n",
       "    .dataframe tbody tr th {\n",
       "        vertical-align: top;\n",
       "    }\n",
       "\n",
       "    .dataframe thead th {\n",
       "        text-align: right;\n",
       "    }\n",
       "</style>\n",
       "<table border=\"1\" class=\"dataframe\">\n",
       "  <thead>\n",
       "    <tr style=\"text-align: right;\">\n",
       "      <th></th>\n",
       "      <th>path_x</th>\n",
       "      <th>prof</th>\n",
       "      <th>label</th>\n",
       "      <th>channel_x</th>\n",
       "      <th>tile_x</th>\n",
       "      <th>path_y</th>\n",
       "      <th>channel_y</th>\n",
       "      <th>tile_y</th>\n",
       "    </tr>\n",
       "  </thead>\n",
       "  <tbody>\n",
       "  </tbody>\n",
       "</table>\n",
       "</div>"
      ],
      "text/plain": [
       "Empty DataFrame\n",
       "Columns: [path_x, prof, label, channel_x, tile_x, path_y, channel_y, tile_y]\n",
       "Index: []"
      ]
     },
     "execution_count": 10,
     "metadata": {},
     "output_type": "execute_result"
    }
   ],
   "source": [
    "pd.merge(test, val, how='inner', on=['label','prof'])"
   ]
  },
  {
   "cell_type": "code",
   "execution_count": 11,
   "id": "ad5c4ffb-9bfd-4ea8-bd7e-b04edda03fec",
   "metadata": {},
   "outputs": [
    {
     "data": {
      "text/plain": [
       "<Axes: xlabel='label'>"
      ]
     },
     "execution_count": 11,
     "metadata": {},
     "output_type": "execute_result"
    },
    {
     "data": {
      "image/png": "[encoded data removed]",
      "text/plain": [
       "<Figure size 640x480 with 1 Axes>"
      ]
     },
     "metadata": {},
     "output_type": "display_data"
    }
   ],
   "source": [
    "train.groupby(by='label')['label'].count().plot.bar()"
   ]
  },
  {
   "cell_type": "code",
   "execution_count": null,
   "id": "72663bfe-acc2-4053-b91f-e3adaa5f958e",
   "metadata": {},
   "outputs": [],
   "source": [
    "# import shutil\n",
    "\n",
    "# root = '../data_experiment_splitted_paper/'\n",
    "\n",
    "# for cl in only_labels:\n",
    "#     dst = f\"{root}train/{cl}/\"\n",
    "#     paths = train[(train['label']==cl) & (train['channel']==0)].path.values\n",
    "#     if not os.path.isdir(dst):\n",
    "#         print('criou')\n",
    "#         os.makedirs(dst)\n",
    "#     for path in paths:\n",
    "#         shutil.copy(path, dst)\n",
    "\n",
    "# for cl in only_labels:\n",
    "#     dst = f\"{root}val/{cl}/\"\n",
    "#     paths = val[(val['label']==cl) & (val['channel']==0)].path.values\n",
    "#     if not os.path.isdir(dst):\n",
    "#         print('criou')\n",
    "#         os.makedirs(dst)\n",
    "#     for path in paths:\n",
    "#         shutil.copy(path, dst)\n",
    "\n",
    "# for cl in only_labels:\n",
    "#     dst = f\"{root}test/{cl}/\"\n",
    "#     paths = test[(test['label']==cl) & (test['channel']==0)].path.values\n",
    "#     if not os.path.isdir(dst):\n",
    "#         print('criou')\n",
    "#         os.makedirs(dst)\n",
    "#     for path in paths:\n",
    "#         shutil.copy(path, dst)"
   ]
  },
  {
   "cell_type": "code",
   "execution_count": null,
   "id": "f7cbe830-4227-4717-b3b2-fffdf6c104b4",
   "metadata": {},
   "outputs": [],
   "source": [
    "data_dir = '../data_experiment_splitted_paper/'\n",
    "data_transforms = {\n",
    "    'train': transforms.Compose([\n",
    "        transforms.RandomResizedCrop(224),\n",
    "        transforms.RandomHorizontalFlip(),\n",
    "        # transforms.Resize(224),\n",
    "        transforms.ToTensor(),\n",
    "        transforms.Normalize([0.485, 0.456, 0.406], [0.229, 0.224, 0.225])\n",
    "    ]),\n",
    "    'val': transforms.Compose([\n",
    "        transforms.Resize(256),#256\n",
    "        transforms.CenterCrop(224),\n",
    "        transforms.ToTensor(),\n",
    "        transforms.Normalize([0.485, 0.456, 0.406], [0.229, 0.224, 0.225])\n",
    "    ]),\n",
    "    'test': transforms.Compose([\n",
    "        transforms.Resize(256), #256 \n",
    "        transforms.CenterCrop(224),\n",
    "        transforms.ToTensor(),\n",
    "        transforms.Normalize([0.485, 0.456, 0.406], [0.229, 0.224, 0.225])\n",
    "    ])\n",
    "}\n",
    "\n",
    "\n",
    "image_datasets = {x: datasets.ImageFolder(os.path.join(data_dir, x),\n",
    "                                          data_transforms[x])\n",
    "                  for x in ['train', 'val','test']}\n",
    "dataloaders = {x: torch.utils.data.DataLoader(image_datasets[x], batch_size=64,\n",
    "                                             shuffle = x, num_workers=4)\n",
    "              for x in ['train', 'val', 'test']}\n",
    "\n",
    "dataset_sizes = {x: len(image_datasets[x]) for x in ['train', 'val', 'test']}\n",
    "\n",
    "class_names = image_datasets[\"train\"].classes\n",
    "\n",
    "print(class_names, dataset_sizes)"
   ]
  },
  {
   "cell_type": "code",
   "execution_count": null,
   "id": "1efd4f10-0b30-4b58-9390-101edbdb830b",
   "metadata": {},
   "outputs": [],
   "source": [
    "idx_to_class = {i:j for i, j in enumerate(class_names)}\n",
    "class_to_idx = {value:key for key,value in idx_to_class.items()}\n",
    "\n",
    "count_by_class = [class_to_idx[i] for i in train.label.values]\n",
    "cls_weight = compute_class_weight('balanced',classes=np.unique(count_by_class),y=count_by_class)"
   ]
  },
  {
   "cell_type": "code",
   "execution_count": null,
   "id": "83b8cb9d-c0fe-419a-9c18-2adaf0b7a721",
   "metadata": {},
   "outputs": [],
   "source": [
    "class DinoVisionTransformerClassifier(nn.Module):\n",
    "    def __init__(self,dinov2_vits14):\n",
    "        super(DinoVisionTransformerClassifier, self).__init__()\n",
    "        self.transformer = deepcopy(dinov2_vits14)\n",
    "        self.classifier = nn.Sequential(nn.Linear(384, 256), nn.ReLU(), nn.Linear(256, cls))\n",
    "\n",
    "    def forward(self, x):\n",
    "        x = self.transformer(x)\n",
    "        x = self.transformer.norm(x)\n",
    "        x = self.classifier(x)\n",
    "        return x\n",
    "\n",
    "model_ft = DinoVisionTransformerClassifier(dinov2_vits14)"
   ]
  },
  {
   "cell_type": "code",
   "execution_count": null,
   "id": "199b1ff5-cbde-405c-99b7-134cbfcecef7",
   "metadata": {},
   "outputs": [],
   "source": [
    "class FocalLoss(nn.modules.loss._WeightedLoss):\n",
    "    def __init__(self, weight=None, gamma=2,reduction='mean'):\n",
    "        super(FocalLoss, self).__init__(weight,reduction=reduction)\n",
    "        self.gamma = gamma\n",
    "        self.weight = weight #weight parameter will act as the alpha parameter to balance class weights\n",
    "\n",
    "    def forward(self, input, target):\n",
    "\n",
    "        ce_loss = F.cross_entropy(input, target,reduction=self.reduction,weight=self.weight)\n",
    "        pt = torch.exp(-ce_loss)\n",
    "        focal_loss = ((1 - pt) ** self.gamma * ce_loss).mean()\n",
    "        return focal_loss"
   ]
  },
  {
   "cell_type": "code",
   "execution_count": null,
   "id": "0809f3bf-72a6-4c5d-92c7-f5e35c06da3b",
   "metadata": {},
   "outputs": [],
   "source": [
    "model_ft = model_ft.to(device)\n",
    "\n",
    "weights = torch.FloatTensor(cls_weight).to(device)\n",
    "#\n",
    "criterion = FocalLoss(weight=weights)\n",
    "\n",
    "# criterion = nn.CrossEntropyLoss(weight=weights)\n",
    "    \n",
    "optimizer_ft = optim.Adam(model_ft.parameters(), lr=1e-6)"
   ]
  },
  {
   "cell_type": "code",
   "execution_count": null,
   "id": "474a5750-83f5-4d8c-8608-5a65beb50ae8",
   "metadata": {},
   "outputs": [],
   "source": [
    "def test_evaluation(model_ft, dataloaders, evaluation_name, is_logits=False):\n",
    "    y_pred = []\n",
    "    y_true = []\n",
    "    model_ft.eval()\n",
    "    i = 0\n",
    "    with torch.set_grad_enabled(False):\n",
    "        for X, y in dataloaders[evaluation_name]:\n",
    "            X = X.to(device)\n",
    "            pred = model_ft(X)\n",
    "            if is_logits:\n",
    "                y_pred+= pred.cpu().numpy().tolist() ## pra pegar a distribuição e não o max               \n",
    "            else:\n",
    "                _, preds = torch.max(pred, 1)\n",
    "                y_pred+= preds.cpu().numpy().tolist()\n",
    "                \n",
    "            y_true+= y.numpy().tolist()\n",
    "            i+=1        \n",
    "    return y_true, y_pred"
   ]
  },
  {
   "cell_type": "code",
   "execution_count": null,
   "id": "9d92608b-6205-42c2-a83b-25f8c179adef",
   "metadata": {},
   "outputs": [],
   "source": [
    "def train_model(model, dataloaders, criterion, optimizer, num_epochs=25, is_inception=False):\n",
    "    since = time.time()\n",
    "\n",
    "    val_acc_history = []\n",
    "\n",
    "    train_acc_history = []\n",
    "\n",
    "    best_model_wts = copy.deepcopy(model.state_dict())\n",
    "    best_acc = 0.0\n",
    "    best_loss = 10\n",
    "    \n",
    "    for epoch in tqdm(range(num_epochs)):\n",
    "        print('Epoch {}/{}'.format(epoch, num_epochs - 1))\n",
    "        print('-' * 10)\n",
    "       \n",
    "        # Each epoch has a training and validation phase\n",
    "        for phase in ['train', 'val']:\n",
    "            if phase == 'train':\n",
    "                model.train()  # Set model to training mode\n",
    "            else:\n",
    "                model.eval()   # Set model to evaluate mode\n",
    "\n",
    "            running_loss = 0.0\n",
    "            running_corrects = 0\n",
    "\n",
    "            # Iterate over data.\n",
    "            for inputs, labels in dataloaders[phase]:\n",
    "                inputs = inputs.to(device)\n",
    "                labels = labels.to(device)\n",
    "                \n",
    "                # zero the parameter gradients\n",
    "                optimizer.zero_grad()\n",
    "\n",
    "                # forward\n",
    "                # track history if only in train\n",
    "                with torch.set_grad_enabled(phase == 'train'):\n",
    "                    # Get model outputs and calculate loss\n",
    "                    if is_inception and phase == 'train':\n",
    "                        # From https://discuss.pytorch.org/t/how-to-optimize-inception-model-with-auxiliary-classifiers/7958\n",
    "                        outputs, aux_outputs = model(inputs)\n",
    "                        loss1 = criterion(outputs, labels)\n",
    "                        loss2 = criterion(aux_outputs, labels)\n",
    "                        loss = loss1 + 0.4*loss2\n",
    "                    else:\n",
    "                                     \n",
    "                        outputs = model(inputs)\n",
    "                        loss = criterion(outputs, labels)\n",
    "\n",
    "                    _, preds = torch.max(outputs, 1)\n",
    "\n",
    "                    # backward + optimize only if in training phase\n",
    "                    if phase == 'train':\n",
    "                        loss.backward()\n",
    "                        optimizer.step()\n",
    "    \n",
    "                # statistics\n",
    "                running_loss += loss.item() * inputs.size(0)\n",
    "                running_corrects += torch.sum(preds == labels.data)\n",
    "            \n",
    "            # scheduler.step()\n",
    "\n",
    "            epoch_loss = running_loss / len(dataloaders[phase].dataset)\n",
    "            epoch_acc = running_corrects.double() / len(dataloaders[phase].dataset)\n",
    "\n",
    "            print('{} Loss: {:.4f} Acc: {:.4f}'.format(phase, epoch_loss, epoch_acc))\n",
    "\n",
    "            # deep copy the model\n",
    "            if phase == 'val' and epoch_acc > best_acc:# and epoch_loss < best_loss:\n",
    "                best_acc = epoch_acc\n",
    "                best_loss = epoch_loss\n",
    "                best_model_wts = copy.deepcopy(model.state_dict())\n",
    "            if phase == 'val':\n",
    "                val_acc_history.append(epoch_acc)\n",
    "            if phase == 'train':\n",
    "                train_acc_history.append(epoch_acc)\n",
    "\n",
    "        \n",
    "    time_elapsed = time.time() - since\n",
    "    print('Training complete in {:.0f}m {:.0f}s'.format(time_elapsed // 60, time_elapsed % 60))\n",
    "    print('Best val Acc: {:4f}'.format(best_acc))\n",
    "\n",
    "    # load best model weights\n",
    "    model.load_state_dict(best_model_wts)\n",
    "    return model, train_acc_history, val_acc_history"
   ]
  },
  {
   "cell_type": "code",
   "execution_count": null,
   "id": "66eab809-5685-4594-b2c9-d36572e067d8",
   "metadata": {},
   "outputs": [],
   "source": [
    "model_ft, hist_train, hist_val = train_model(model_ft, dataloaders, criterion, optimizer_ft,  num_epochs=num_epochs, is_inception=False)"
   ]
  },
  {
   "cell_type": "code",
   "execution_count": null,
   "id": "d3baae98-5482-4795-9ca1-d90f13305092",
   "metadata": {},
   "outputs": [],
   "source": [
    "y_true, y_pred = test_evaluation(model_ft, dataloaders, 'test')"
   ]
  },
  {
   "cell_type": "code",
   "execution_count": null,
   "id": "908ec7e7-3843-4a80-8b1a-9e5ebe088d2a",
   "metadata": {},
   "outputs": [],
   "source": [
    "cm = confusion_matrix(y_true, y_pred, labels=list(class_to_idx.values()))\n",
    "cmn = cm.astype('float') / cm.sum(axis=1)[:, np.newaxis]\n",
    "disp = ConfusionMatrixDisplay(confusion_matrix=cmn , display_labels=list(idx_to_class.values()))\n",
    "disp.plot()"
   ]
  },
  {
   "cell_type": "code",
   "execution_count": null,
   "id": "e5a289d6-5684-4b87-8b3d-0876285f82d4",
   "metadata": {},
   "outputs": [],
   "source": [
    "print(classification_report(y_true, y_pred, target_names=list(idx_to_class.values())))"
   ]
  },
  {
   "cell_type": "code",
   "execution_count": null,
   "id": "7ba7c7b0-9911-40e0-b10b-077abe0d0a87",
   "metadata": {},
   "outputs": [],
   "source": [
    "# torch.save(model_ft.transformer.state_dict(), 'dino_paper.pt')"
   ]
  },
  {
   "cell_type": "code",
   "execution_count": null,
   "id": "a2ec2a77-1ee6-4065-a697-883b91882389",
   "metadata": {},
   "outputs": [],
   "source": [
    "model_ft.classifier"
   ]
  },
  {
   "cell_type": "code",
   "execution_count": null,
   "id": "4b6b8d19-756b-4c83-a00f-849db268d533",
   "metadata": {},
   "outputs": [],
   "source": [
    "model_ft"
   ]
  },
  {
   "cell_type": "code",
   "execution_count": null,
   "id": "78773a90-ca85-43fd-a03b-d6d17ffd92ab",
   "metadata": {},
   "outputs": [],
   "source": [
    "train Loss: 0.0494 Acc: 0.9355\n",
    "  3%|█▎                                       | 1/30 [06:05<2:56:31, 365.22s/it]\n",
    "val Loss: 0.0045 Acc: 0.9688\n",
    "\n",
    "\n",
    "\n",
    "Epoch 0/29\n",
    "----------\n",
    "train Loss: 0.2199 Acc: 0.7598\n",
    "  3%|█▎                                       | 1/30 [05:59<2:53:57, 359.90s/it]\n",
    "val Loss: 0.0520 Acc: 0.8791\n",
    "Epoch 1/29"
   ]
  },
  {
   "cell_type": "code",
   "execution_count": null,
   "id": "33d1e813-1750-463e-9183-b96b1beed3d5",
   "metadata": {},
   "outputs": [],
   "source": []
  }
 ],
 "metadata": {
  "kernelspec": {
   "display_name": "Python 3 (ipykernel)",
   "language": "python",
   "name": "python3"
  },
  "language_info": {
   "codemirror_mode": {
    "name": "ipython",
    "version": 3
   },
   "file_extension": ".py",
   "mimetype": "text/x-python",
   "name": "python",
   "nbconvert_exporter": "python",
   "pygments_lexer": "ipython3",
   "version": "3.10.11"
  }
 },
 "nbformat": 4,
 "nbformat_minor": 5
}
